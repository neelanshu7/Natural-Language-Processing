{
 "cells": [
  {
   "cell_type": "code",
   "execution_count": 1,
   "id": "df7ecd82",
   "metadata": {},
   "outputs": [
    {
     "name": "stdout",
     "output_type": "stream",
     "text": [
      "enter no of senses2\n",
      "enter no of words3\n",
      "enter the emission matrix\n",
      "0.7\n",
      "0.3\n",
      "0.5\n",
      "0.5\n",
      "enter the transission matrix\n",
      "0.6\n",
      "0.1\n",
      "0.3\n",
      "0.1\n",
      "0.7\n",
      "0.2\n"
     ]
    }
   ],
   "source": [
    "a=[]\n",
    "b=[]\n",
    "n=int(input(\"enter no of senses\"))\n",
    "m=int(input(\"enter no of words\"))\n",
    "print(\"enter the emission matrix\")\n",
    "for i in range(0,n):\n",
    "    temp=[]\n",
    "    for j in range(0,n):\n",
    "        temp.append(float(input()))\n",
    "    a.append(temp)\n",
    "print(\"enter the transission matrix\")\n",
    "for i in range(0,n):\n",
    "    temp=[]\n",
    "    for j in range(0,m):\n",
    "        temp.append(float(input()))\n",
    "    b.append(temp)"
   ]
  },
  {
   "cell_type": "code",
   "execution_count": 2,
   "id": "d5c85e28",
   "metadata": {},
   "outputs": [
    {
     "name": "stdout",
     "output_type": "stream",
     "text": [
      "[[0.7, 0.3], [0.5, 0.5]]\n",
      "[[0.6, 0.1, 0.3], [0.1, 0.7, 0.2]]\n"
     ]
    }
   ],
   "source": [
    "print(a)\n",
    "print(b)"
   ]
  },
  {
   "cell_type": "code",
   "execution_count": null,
   "id": "4b4341fb",
   "metadata": {},
   "outputs": [],
   "source": []
  },
  {
   "cell_type": "code",
   "execution_count": 22,
   "id": "5cb674c7",
   "metadata": {},
   "outputs": [
    {
     "name": "stdout",
     "output_type": "stream",
     "text": [
      "enter the words123\n",
      "1 0.7 0.6\n",
      "1 0.3 0.6\n",
      "1 0.5 0.1\n",
      "1 0.5 0.1\n",
      "[0.6, 0.1]\n",
      "0.6 0.7 0.1\n",
      "0.1 0.3 0.1\n",
      "0.6 0.5 0.7\n",
      "0.1 0.5 0.7\n",
      "[0.045000000000000005, 0.245]\n",
      "0.045000000000000005 0.7 0.3\n",
      "0.245 0.3 0.3\n",
      "0.045000000000000005 0.5 0.2\n",
      "0.245 0.5 0.2\n",
      "[0.0315, 0.029]\n",
      "0.0315\n"
     ]
    }
   ],
   "source": [
    "import math\n",
    "beta=[1,1]\n",
    "string1=input(\"enter the words\")\n",
    "for t in range(0,int(len(string1))):\n",
    "    templist=[]\n",
    "    for i in range(0,n):\n",
    "        sum=0\n",
    "        k=int(string1[t])\n",
    "        for j in range(0,n):\n",
    "            print(beta[j],a[i][j],b[i][k-1])\n",
    "            sum=sum+beta[j]*a[i][j]*b[i][k-1]\n",
    "        templist.append(sum)\n",
    "    beta=templist.copy()\n",
    "    print(beta)\n",
    "pi=[1,0]\n",
    "sum1=0\n",
    "for i in range(0,2):\n",
    "    sum1=sum1+pi[i]*beta[i]\n",
    "print(sum1)\n",
    "    "
   ]
  },
  {
   "cell_type": "code",
   "execution_count": null,
   "id": "77acbc8c",
   "metadata": {},
   "outputs": [],
   "source": []
  }
 ],
 "metadata": {
  "kernelspec": {
   "display_name": "Python 3 (ipykernel)",
   "language": "python",
   "name": "python3"
  },
  "language_info": {
   "codemirror_mode": {
    "name": "ipython",
    "version": 3
   },
   "file_extension": ".py",
   "mimetype": "text/x-python",
   "name": "python",
   "nbconvert_exporter": "python",
   "pygments_lexer": "ipython3",
   "version": "3.12.6"
  }
 },
 "nbformat": 4,
 "nbformat_minor": 5
}
