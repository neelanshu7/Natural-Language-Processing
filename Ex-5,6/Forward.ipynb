{
 "cells": [
  {
   "cell_type": "code",
   "execution_count": 4,
   "id": "a17a05de",
   "metadata": {
    "id": "a17a05de",
    "outputId": "363315cb-7791-4fc8-e230-50404302cfab"
   },
   "outputs": [
    {
     "name": "stdin",
     "output_type": "stream",
     "text": [
      "enter no of senses  2\n",
      "enter no of words  3\n"
     ]
    },
    {
     "name": "stdout",
     "output_type": "stream",
     "text": [
      "enter the emission matrix\n"
     ]
    },
    {
     "name": "stdin",
     "output_type": "stream",
     "text": [
      " 0.4\n",
      " 0.6\n",
      " 0.5\n",
      " 0.5\n"
     ]
    },
    {
     "name": "stdout",
     "output_type": "stream",
     "text": [
      "enter the transission matrix\n"
     ]
    },
    {
     "name": "stdin",
     "output_type": "stream",
     "text": [
      " 0.4\n",
      " 0.4\n",
      " 0.2\n",
      " 0.3\n",
      " 0.4\n",
      " 0.3\n"
     ]
    },
    {
     "name": "stdout",
     "output_type": "stream",
     "text": [
      "[[0.4, 0.6], [0.5, 0.5]]\n",
      "[[0.4, 0.4, 0.2], [0.3, 0.4, 0.3]]\n"
     ]
    }
   ],
   "source": [
    "import math\n",
    "a=[]\n",
    "b=[]\n",
    "n=int(input(\"enter no of senses\"))\n",
    "m=int(input(\"enter no of words\"))\n",
    "print(\"enter the emission matrix\")\n",
    "for i in range(0,n):\n",
    "    temp=[]\n",
    "    for j in range(0,n):\n",
    "        temp.append(float(input()))\n",
    "    a.append(temp)\n",
    "print(\"enter the transission matrix\")\n",
    "for i in range(0,n):\n",
    "    temp=[]\n",
    "    for j in range(0,m):\n",
    "        temp.append(float(input()))\n",
    "    b.append(temp)\n",
    "\n",
    "print(a)\n",
    "print(b)"
   ]
  },
  {
   "cell_type": "code",
   "execution_count": 19,
   "id": "002ae163-956a-4124-b154-d7f3f5d03fa1",
   "metadata": {},
   "outputs": [
    {
     "name": "stdin",
     "output_type": "stream",
     "text": [
      "enter the words 22\n"
     ]
    },
    {
     "name": "stdout",
     "output_type": "stream",
     "text": [
      "[0.16000000000000003, 0.24]\n",
      "0.4\n",
      "[0.07360000000000001, 0.0864]\n",
      "0.16000000000000003\n"
     ]
    }
   ],
   "source": [
    "alpha=[1,0]\n",
    "string1=input(\"enter the words\")\n",
    "for t in range(0,int(len(string1))):\n",
    "    templist=[]\n",
    "    for j in range(0,int(len(string1))):\n",
    "        sum=0\n",
    "        k=int(string1[t])\n",
    "        for i in range(0,int(len(string1))):\n",
    "            sum=sum+alpha[i]*a[i][j]*b[i][k-1]\n",
    "        templist.append(sum)\n",
    "    alpha=templist.copy()\n",
    "    print(alpha)\n",
    "    print(math.fsum(alpha))"
   ]
  }
 ],
 "metadata": {
  "colab": {
   "provenance": []
  },
  "kernelspec": {
   "display_name": "Python 3 (ipykernel)",
   "language": "python",
   "name": "python3"
  },
  "language_info": {
   "codemirror_mode": {
    "name": "ipython",
    "version": 3
   },
   "file_extension": ".py",
   "mimetype": "text/x-python",
   "name": "python",
   "nbconvert_exporter": "python",
   "pygments_lexer": "ipython3",
   "version": "3.12.6"
  }
 },
 "nbformat": 4,
 "nbformat_minor": 5
}
