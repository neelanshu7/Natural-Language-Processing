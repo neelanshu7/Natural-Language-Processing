{
 "cells": [
  {
   "cell_type": "markdown",
   "id": "5a94e1f6-2dab-4331-b966-6abd42a08952",
   "metadata": {},
   "source": [
    "# Hidden Markov Model(HMM)"
   ]
  },
  {
   "cell_type": "code",
   "execution_count": 1,
   "id": "ee7b7e7a-b27c-47a7-9122-8b3ddf8c7d9d",
   "metadata": {},
   "outputs": [],
   "source": [
    "import numpy as np"
   ]
  },
  {
   "cell_type": "code",
   "execution_count": 2,
   "id": "1df7da5b-7e05-48e4-9718-565ed78f6240",
   "metadata": {},
   "outputs": [],
   "source": [
    "# Example inputs\n",
    "A = np.array([[0.7, 0.3], [0.4, 0.6]])  # Transition matrix\n",
    "B = np.array([[0.1, 0.4, 0.5], [0.7, 0.2, 0.1]])  # Emission matrix\n",
    "pi = np.array([0.6, 0.4])  # Initial state distribution\n",
    "obs = [0, 1, 2]  # Observation sequence"
   ]
  },
  {
   "cell_type": "markdown",
   "id": "55453bfa-ea88-4508-b753-2b2ffe2aa59a",
   "metadata": {},
   "source": [
    "# Forword Algorithm"
   ]
  },
  {
   "cell_type": "code",
   "execution_count": 3,
   "id": "e5e7145a-f850-44b4-bd8e-edc1502782f6",
   "metadata": {},
   "outputs": [],
   "source": [
    "def forward(A,pi,B,obs):\n",
    "    M=len(obs)\n",
    "    N=pi.shape[0]\n",
    "    alpha=np.zeros((M,N))\n",
    "    # Initialization\n",
    "    print(\"Alpha :\",alpha)\n",
    "    print(\"B :\",B)\n",
    "    alpha[0, :]=pi*B[:,obs[0]]\n",
    "    print(\"Alpha :\",alpha)\n",
    "    #Induction\n",
    "    for t in range(1,M):\n",
    "        for j in range(N):\n",
    "            for i in range(N):\n",
    "                alpha[t,j]+=alpha[t-1,i]*A[i,j]*B[j,obs[t]]\n",
    "                print(\"Alpha :\",alpha)\n",
    "    return np.sum(alpha[M-1,:])"
   ]
  },
  {
   "cell_type": "code",
   "execution_count": 4,
   "id": "708396c2-ab13-4cf6-b781-d344b2730859",
   "metadata": {},
   "outputs": [
    {
     "name": "stdout",
     "output_type": "stream",
     "text": [
      "Alpha : [[0. 0.]\n",
      " [0. 0.]\n",
      " [0. 0.]]\n",
      "B : [[0.1 0.4 0.5]\n",
      " [0.7 0.2 0.1]]\n",
      "Alpha : [[0.06 0.28]\n",
      " [0.   0.  ]\n",
      " [0.   0.  ]]\n",
      "Alpha : [[0.06   0.28  ]\n",
      " [0.0168 0.    ]\n",
      " [0.     0.    ]]\n",
      "Alpha : [[0.06   0.28  ]\n",
      " [0.0616 0.    ]\n",
      " [0.     0.    ]]\n",
      "Alpha : [[0.06   0.28  ]\n",
      " [0.0616 0.0036]\n",
      " [0.     0.    ]]\n",
      "Alpha : [[0.06   0.28  ]\n",
      " [0.0616 0.0372]\n",
      " [0.     0.    ]]\n",
      "Alpha : [[0.06    0.28   ]\n",
      " [0.0616  0.0372 ]\n",
      " [0.02156 0.     ]]\n",
      "Alpha : [[0.06   0.28  ]\n",
      " [0.0616 0.0372]\n",
      " [0.029  0.    ]]\n",
      "Alpha : [[0.06     0.28    ]\n",
      " [0.0616   0.0372  ]\n",
      " [0.029    0.001848]]\n",
      "Alpha : [[0.06    0.28   ]\n",
      " [0.0616  0.0372 ]\n",
      " [0.029   0.00408]]\n",
      "Forward Probability: 0.03308\n"
     ]
    }
   ],
   "source": [
    "# Forward Algorithm\n",
    "forward_prob = forward(A, pi, B, obs)\n",
    "print(\"Forward Probability:\", forward_prob)"
   ]
  },
  {
   "cell_type": "markdown",
   "id": "692c007a-8f32-40af-9218-e64957379d18",
   "metadata": {},
   "source": [
    "# Backward Algorithm"
   ]
  },
  {
   "cell_type": "code",
   "execution_count": 5,
   "id": "fe2ed3fb-da49-4800-a6fe-33aa53da2bc4",
   "metadata": {},
   "outputs": [],
   "source": [
    "def backward(A, B, obs):\n",
    "    M = len(obs)\n",
    "    N = B.shape[0]\n",
    "    beta = np.zeros((M, N))\n",
    "    # Initialization\n",
    "    beta[M-1, :] = 1  # Beta at the last time step is 1 for all states\n",
    "    # Induction (recursive case)\n",
    "    for t in range(M-2, -1, -1):  # Iterate backward in time\n",
    "        for i in range(N):\n",
    "            for j in range(N):\n",
    "                beta[t, i] += A[i, j] * B[j, obs[t+1]] * beta[t+1, j]\n",
    "\n",
    "    return beta"
   ]
  },
  {
   "cell_type": "code",
   "execution_count": 6,
   "id": "4875b9dd-80c9-40d0-a16b-57c8cac3250f",
   "metadata": {},
   "outputs": [
    {
     "name": "stdout",
     "output_type": "stream",
     "text": [
      "Beta Matrix (Backward):\n",
      " [[0.122 0.092]\n",
      " [0.38  0.26 ]\n",
      " [1.    1.   ]]\n"
     ]
    }
   ],
   "source": [
    "# Backward Algorithm\n",
    "beta = backward(A, B, obs)\n",
    "print(\"Beta Matrix (Backward):\\n\", beta)"
   ]
  },
  {
   "cell_type": "markdown",
   "id": "f319c7c4-3026-4987-9ba6-6580fa2e8075",
   "metadata": {},
   "source": [
    "# Viterbi Algorithm"
   ]
  },
  {
   "cell_type": "code",
   "execution_count": 7,
   "id": "9c3772fd-984d-4932-96ac-17fecda96658",
   "metadata": {},
   "outputs": [],
   "source": [
    "def viterbi(A, pi, B, obs):\n",
    "    M = len(obs)\n",
    "    N = pi.shape[0]\n",
    "    delta = np.zeros((M, N))\n",
    "    psi = np.zeros((M, N), dtype=int)\n",
    "    # Initialization\n",
    "    delta[0, :] = pi * B[:, obs[0]]\n",
    "    # Recursion\n",
    "    for t in range(1, M):\n",
    "        for j in range(N):\n",
    "            delta[t, j] = np.max(delta[t-1, :] * A[:, j]) * B[j, obs[t]]\n",
    "            psi[t, j] = np.argmax(delta[t-1, :] * A[:, j])\n",
    "    # Backtracking to find the most likely state sequence\n",
    "    states = np.zeros(M, dtype=int)\n",
    "    states[M-1] = np.argmax(delta[M-1, :])  # Start with the most likely state at the last time step\n",
    "    for t in range(M-2, -1, -1):\n",
    "        states[t] = psi[t+1, states[t+1]]\n",
    "\n",
    "    return states"
   ]
  },
  {
   "cell_type": "code",
   "execution_count": 8,
   "id": "44aeb6d2-3e37-403b-9833-29db26f711a9",
   "metadata": {},
   "outputs": [
    {
     "name": "stdout",
     "output_type": "stream",
     "text": [
      "Most Likely State Sequence (Viterbi): [1 0 0]\n"
     ]
    }
   ],
   "source": [
    "# Viterbi Algorithm\n",
    "most_likely_states = viterbi(A, pi, B, obs)\n",
    "print(\"Most Likely State Sequence (Viterbi):\", most_likely_states)"
   ]
  },
  {
   "cell_type": "code",
   "execution_count": null,
   "id": "39abfd82-28cc-4a95-8d08-770d6023ff9f",
   "metadata": {},
   "outputs": [],
   "source": []
  }
 ],
 "metadata": {
  "kernelspec": {
   "display_name": "Python 3 (ipykernel)",
   "language": "python",
   "name": "python3"
  },
  "language_info": {
   "codemirror_mode": {
    "name": "ipython",
    "version": 3
   },
   "file_extension": ".py",
   "mimetype": "text/x-python",
   "name": "python",
   "nbconvert_exporter": "python",
   "pygments_lexer": "ipython3",
   "version": "3.12.6"
  }
 },
 "nbformat": 4,
 "nbformat_minor": 5
}
