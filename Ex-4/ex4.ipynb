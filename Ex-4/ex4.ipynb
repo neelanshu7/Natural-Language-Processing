{
 "cells": [
  {
   "cell_type": "markdown",
   "id": "7b338540-7f56-45b4-aa6c-55430cbf6b45",
   "metadata": {},
   "source": [
    "# Attachment Ambiguity Hindle Rooth Alforithm"
   ]
  },
  {
   "cell_type": "code",
   "execution_count": 1,
   "id": "c60e26de-0d63-4ffa-bd41-349b85a4b429",
   "metadata": {},
   "outputs": [
    {
     "name": "stdout",
     "output_type": "stream",
     "text": [
      "Natural language in handelling in processing data . Good natural language i handelling in processing speech data and text data . I is a good dubject for doing project . Natural language processing in medical fields is good to analyze the medical data. Handling Natural language in online shop is more useful.\n"
     ]
    }
   ],
   "source": [
    "# 1. Create a text file\n",
    "# 2. Read the text file and split the words\n",
    "f=open(\"data4.txt\")\n",
    "txt=f.read()\n",
    "print(txt)"
   ]
  },
  {
   "cell_type": "code",
   "execution_count": 2,
   "id": "90e4ad20-e71f-4513-a34b-8c47523b3474",
   "metadata": {},
   "outputs": [
    {
     "name": "stdout",
     "output_type": "stream",
     "text": [
      "['natural', 'language', 'in', 'handelling', 'in', 'processing', 'data', '.', 'good', 'natural', 'language', 'i', 'handelling', 'in', 'processing', 'speech', 'data', 'and', 'text', 'data', '.', 'i', 'is', 'a', 'good', 'dubject', 'for', 'doing', 'project', '.', 'natural', 'language', 'processing', 'in', 'medical', 'fields', 'is', 'good', 'to', 'analyze', 'the', 'medical', 'data.', 'handling', 'natural', 'language', 'in', 'online', 'shop', 'is', 'more', 'useful.']\n"
     ]
    }
   ],
   "source": [
    "words=txt.lower().split()\n",
    "print(words)"
   ]
  },
  {
   "cell_type": "code",
   "execution_count": 3,
   "id": "1109a844-bd39-4464-93b6-d97a4b266749",
   "metadata": {},
   "outputs": [
    {
     "name": "stdout",
     "output_type": "stream",
     "text": [
      "[('natural', 'JJ'), ('language', 'NN'), ('in', 'IN'), ('handelling', 'VBG'), ('in', 'IN'), ('processing', 'VBG'), ('data', 'NNS'), ('.', '.'), ('good', 'JJ'), ('natural', 'JJ'), ('language', 'NN'), ('i', 'NN'), ('handelling', 'VBG'), ('in', 'IN'), ('processing', 'VBG'), ('speech', 'NN'), ('data', 'NNS'), ('and', 'CC'), ('text', 'NN'), ('data', 'NNS'), ('.', '.'), ('i', 'NN'), ('is', 'VBZ'), ('a', 'DT'), ('good', 'JJ'), ('dubject', 'NN'), ('for', 'IN'), ('doing', 'VBG'), ('project', 'NN'), ('.', '.'), ('natural', 'JJ'), ('language', 'NN'), ('processing', 'NN'), ('in', 'IN'), ('medical', 'JJ'), ('fields', 'NNS'), ('is', 'VBZ'), ('good', 'JJ'), ('to', 'TO'), ('analyze', 'VB'), ('the', 'DT'), ('medical', 'JJ'), ('data.', 'NN'), ('handling', 'VBG'), ('natural', 'JJ'), ('language', 'NN'), ('in', 'IN'), ('online', 'NN'), ('shop', 'NN'), ('is', 'VBZ'), ('more', 'RBR'), ('useful.', 'JJ')]\n"
     ]
    }
   ],
   "source": [
    "# 3. Tag the words\n",
    "import nltk\n",
    "import math\n",
    "tags=nltk.pos_tag(words)\n",
    "print(tags)"
   ]
  },
  {
   "cell_type": "code",
   "execution_count": 4,
   "id": "635f6de7-dcca-48b6-998d-4ac6e11e9c32",
   "metadata": {},
   "outputs": [
    {
     "name": "stdout",
     "output_type": "stream",
     "text": [
      "Nouns: ['language', 'language', 'i', 'speech', 'text', 'i', 'dubject', 'project', 'language', 'processing', 'data.', 'language', 'online', 'shop']\n",
      "\n",
      "Verbs: ['handelling', 'processing', 'handelling', 'processing', 'is', 'doing', 'is', 'analyze', 'handling', 'is']\n",
      "\n",
      "Preposition: ['in', 'in', 'in', 'for', 'in', 'in']\n"
     ]
    }
   ],
   "source": [
    "# 4. Seperate the noun, verb, preposition\n",
    "nouns,verbs,prep=[],[],[]\n",
    "for i in range(len(tags)):\n",
    "    if tags[i][1]=='NN' or tags[i][1]=='NBS':\n",
    "        nouns.append(tags[i][0])\n",
    "    if tags[i][1]=='VB' or tags[i][1]=='VBN' or tags[i][1]=='VBZ' or tags[i][1]=='VBG':\n",
    "        verbs.append(tags[i][0])\n",
    "    if tags[i][1]=='IN':\n",
    "        prep.append(tags[i][0])\n",
    "print(f\"Nouns: {nouns}\\n\")\n",
    "print(f\"Verbs: {verbs}\\n\")\n",
    "print(f\"Preposition: {prep}\")"
   ]
  },
  {
   "cell_type": "code",
   "execution_count": 5,
   "id": "f0f0c239-9fbd-4bcd-bf0d-911f744e4b3b",
   "metadata": {},
   "outputs": [
    {
     "name": "stdout",
     "output_type": "stream",
     "text": [
      "['natural language', 'language in', 'in handelling', 'handelling in', 'in processing', 'processing data', 'data .', '. good', 'good natural', 'natural language', 'language i', 'i handelling', 'handelling in', 'in processing', 'processing speech', 'speech data', 'data and', 'and text', 'text data', 'data .', '. i', 'i is', 'is a', 'a good', 'good dubject', 'dubject for', 'for doing', 'doing project', 'project .', '. natural', 'natural language', 'language processing', 'processing in', 'in medical', 'medical fields', 'fields is', 'is good', 'good to', 'to analyze', 'analyze the', 'the medical', 'medical data.', 'data. handling', 'handling natural', 'natural language', 'language in', 'in online', 'online shop', 'shop is', 'is more', 'more useful.']\n"
     ]
    }
   ],
   "source": [
    "# 5. Bigrsams\n",
    "bigramwords=[]\n",
    "for i in range(len(words)-1):\n",
    "    bigramwords.append(words[i]+\" \"+words[i+1])\n",
    "print(bigramwords)"
   ]
  },
  {
   "cell_type": "code",
   "execution_count": 10,
   "id": "b591a1eb-5dd7-444e-8437-8a8b094779f1",
   "metadata": {},
   "outputs": [],
   "source": [
    "# 6. Implement Hindle Rooth\n",
    "def hindle_rooth(v,n,p,words,bigramwords):\n",
    "    verb_count=words.count(v)\n",
    "    noun_count=words.count(n)\n",
    "    prep_count=words.count(p)\n",
    "    verb_prep_count=bigramwords.count(v+\" \"+p)\n",
    "    noun_prep_count=bigramwords.count(n+\" \"+p)\n",
    "    p1=verb_prep_count/verb_count\n",
    "    p2=noun_prep_count/noun_count\n",
    "    p3=1-p2\n",
    "    result=(p1*p3)/p2\n",
    "    # result=math.log(result,2)\n",
    "    if result > 0:\n",
    "        result = math.log(result, 2)\n",
    "    else:\n",
    "        print(\"Error: Cannot compute log of a non-positive number.\")\n",
    "    framing(verb_count, noun_count, verb_prep_count,noun_prep_count,v,n,prep,result)"
   ]
  },
  {
   "cell_type": "code",
   "execution_count": 11,
   "id": "125f16d1-275f-4448-b911-28e7e9225487",
   "metadata": {},
   "outputs": [],
   "source": [
    "# 7. Printing the output\n",
    "import pandas as pd\n",
    "def framing(v,n,cp,np,noun,prep,result):\n",
    "    data={\"W\":[verb,noun], \"C(W)\": [v,n], \"C(W+P)\": [vp,np]}\n",
    "    df=pd.DataFrame(data,index=[\"->\",\"->\"])\n",
    "    print(df)\n",
    "    print(\"\\n\")\n",
    "    print(\"Noun: \",noun)\n",
    "    print(\"Verb: \",verb)\n",
    "    print(\"Preposition: \",prep)\n",
    "    print(\"Result: \",result)\n",
    "    if result>0:\n",
    "        print(\"Preposition attaches with verb\")\n",
    "    else:\n",
    "        print(\"Preposition attaches with noun\")"
   ]
  },
  {
   "cell_type": "code",
   "execution_count": 12,
   "id": "ff1d0326-cf33-40a0-b6dc-ca181530ab0c",
   "metadata": {},
   "outputs": [
    {
     "name": "stdout",
     "output_type": "stream",
     "text": [
      "Error: Cannot compute log of a non-positive number.\n"
     ]
    },
    {
     "ename": "TypeError",
     "evalue": "framing() takes 7 positional arguments but 8 were given",
     "output_type": "error",
     "traceback": [
      "\u001b[1;31m---------------------------------------------------------------------------\u001b[0m",
      "\u001b[1;31mTypeError\u001b[0m                                 Traceback (most recent call last)",
      "Cell \u001b[1;32mIn[12], line 1\u001b[0m\n\u001b[1;32m----> 1\u001b[0m \u001b[43mhindle_rooth\u001b[49m\u001b[43m(\u001b[49m\u001b[38;5;124;43m\"\u001b[39;49m\u001b[38;5;124;43mhandling\u001b[39;49m\u001b[38;5;124;43m\"\u001b[39;49m\u001b[43m,\u001b[49m\u001b[38;5;124;43m\"\u001b[39;49m\u001b[38;5;124;43mlanguage\u001b[39;49m\u001b[38;5;124;43m\"\u001b[39;49m\u001b[43m,\u001b[49m\u001b[38;5;124;43m\"\u001b[39;49m\u001b[38;5;124;43min\u001b[39;49m\u001b[38;5;124;43m\"\u001b[39;49m\u001b[43m,\u001b[49m\u001b[43mwords\u001b[49m\u001b[43m,\u001b[49m\u001b[43mbigramwords\u001b[49m\u001b[43m)\u001b[49m\n",
      "Cell \u001b[1;32mIn[10], line 17\u001b[0m, in \u001b[0;36mhindle_rooth\u001b[1;34m(v, n, p, words, bigramwords)\u001b[0m\n\u001b[0;32m     15\u001b[0m \u001b[38;5;28;01melse\u001b[39;00m:\n\u001b[0;32m     16\u001b[0m     \u001b[38;5;28mprint\u001b[39m(\u001b[38;5;124m\"\u001b[39m\u001b[38;5;124mError: Cannot compute log of a non-positive number.\u001b[39m\u001b[38;5;124m\"\u001b[39m)\n\u001b[1;32m---> 17\u001b[0m \u001b[43mframing\u001b[49m\u001b[43m(\u001b[49m\u001b[43mverb_count\u001b[49m\u001b[43m,\u001b[49m\u001b[43m \u001b[49m\u001b[43mnoun_count\u001b[49m\u001b[43m,\u001b[49m\u001b[43m \u001b[49m\u001b[43mverb_prep_count\u001b[49m\u001b[43m,\u001b[49m\u001b[43mnoun_prep_count\u001b[49m\u001b[43m,\u001b[49m\u001b[43mv\u001b[49m\u001b[43m,\u001b[49m\u001b[43mn\u001b[49m\u001b[43m,\u001b[49m\u001b[43mprep\u001b[49m\u001b[43m,\u001b[49m\u001b[43mresult\u001b[49m\u001b[43m)\u001b[49m\n",
      "\u001b[1;31mTypeError\u001b[0m: framing() takes 7 positional arguments but 8 were given"
     ]
    }
   ],
   "source": [
    "hindle_rooth(\"handling\",\"language\",\"in\",words,bigramwords)"
   ]
  },
  {
   "cell_type": "code",
   "execution_count": null,
   "id": "fc45b9be-4ee0-4f52-8986-2c84fdbc035d",
   "metadata": {},
   "outputs": [],
   "source": []
  }
 ],
 "metadata": {
  "kernelspec": {
   "display_name": "Python 3 (ipykernel)",
   "language": "python",
   "name": "python3"
  },
  "language_info": {
   "codemirror_mode": {
    "name": "ipython",
    "version": 3
   },
   "file_extension": ".py",
   "mimetype": "text/x-python",
   "name": "python",
   "nbconvert_exporter": "python",
   "pygments_lexer": "ipython3",
   "version": "3.12.6"
  }
 },
 "nbformat": 4,
 "nbformat_minor": 5
}
