{
 "cells": [
  {
   "cell_type": "code",
   "execution_count": 1,
   "id": "3539542d-b36e-4cec-b0aa-280fb8a8ed53",
   "metadata": {},
   "outputs": [],
   "source": [
    "import pickle\n",
    "from copy import deepcopy"
   ]
  },
  {
   "cell_type": "code",
   "execution_count": 2,
   "id": "f07622d0-78f5-4870-9874-3327596b1ae9",
   "metadata": {},
   "outputs": [],
   "source": [
    "class Rule:\n",
    "    def __init__(self,left,right,probability):\n",
    "        self.right=right\n",
    "        self.left=left\n",
    "        self.probability=probability\n",
    "    def __str__(self):\n",
    "        return f\"{self.left}->{self.right} {self.probability}\"\n",
    "    def __rept__(self):\n",
    "        return self.__str__()"
   ]
  },
  {
   "cell_type": "code",
   "execution_count": 3,
   "id": "27fd0217-3c55-4f61-99f9-823ffdf707de",
   "metadata": {},
   "outputs": [],
   "source": [
    "# Find rule with word\n",
    "def find_rule_with_word(terminal):\n",
    "    a=[]\n",
    "    for i in rules:\n",
    "        for j in i.right:\n",
    "            if j==terminal:\n",
    "                a.append(i)\n",
    "    return a"
   ]
  },
  {
   "cell_type": "code",
   "execution_count": 4,
   "id": "615ea5ff-3e02-4fc7-9b85-ff1c3bb86290",
   "metadata": {},
   "outputs": [],
   "source": [
    "def loop_print(i):\n",
    "    for j in i:\n",
    "        print(j)"
   ]
  },
  {
   "cell_type": "markdown",
   "id": "97aeabe1-0195-47c2-8d3d-8a261132d934",
   "metadata": {},
   "source": [
    "##### z=int(input(\"Enter no of rules: \"))\n",
    "rules=[]\n",
    "for i in range(z):\n",
    "    print(\"_\"*10)\n",
    "    print(f\"Rule {i+1}\")\n",
    "    key=input(\"Enter left side of the rule: \").upper()\n",
    "    value=input(\"Enter right side of the rule in single string: \").upper().split()\n",
    "    probability=float(input(\"Enter probability of the rule: \"))\n",
    "    rule=Rule(key,value,probability)\n",
    "    rules.append(rule)\n",
    "\n",
    "pickle.dump(rules,open(\"rules.data\",\"wb\"))"
   ]
  },
  {
   "cell_type": "code",
   "execution_count": 6,
   "id": "0b32ab90-6b54-4b11-993c-622a83c4d7fa",
   "metadata": {},
   "outputs": [
    {
     "name": "stdout",
     "output_type": "stream",
     "text": [
      "12\n",
      "S->['NP', 'VP'] 1.0\n",
      "PP->['P', 'NP'] 1.0\n",
      "VP->['V', 'NP'] 0.7\n",
      "VP->['VP', 'PP'] 0.3\n",
      "P->['WITH'] 1.0\n",
      "V->['SAW'] 1.0\n",
      "NP->['NP', 'PP'] 0.4\n",
      "NP->['MANI'] 0.1\n",
      "NP->['EARS'] 0.18\n",
      "NP->['SAW'] 0.04\n",
      "NP->['STARS'] 0.18\n",
      "NP->['TELESCOPE'] 0.1\n"
     ]
    }
   ],
   "source": [
    "rules=pickle.load(open(\"rules.data\",\"rb\"))\n",
    "Z=len(rules)\n",
    "print(Z)\n",
    "for i in rules:\n",
    "    print(i)"
   ]
  },
  {
   "cell_type": "code",
   "execution_count": 7,
   "id": "2377220b-5f31-46d6-a8ac-84cc3a5a976f",
   "metadata": {},
   "outputs": [
    {
     "name": "stdout",
     "output_type": "stream",
     "text": [
      "Total probability should be one. It is 0.9999999999999999 for NP\n"
     ]
    }
   ],
   "source": [
    "# Check the conditions for rules\n",
    "non_terminals=[\"S\",\"NP\",\"N\",\"VP\",\"V\",\"PP\",\"P\"]\n",
    "total_prob={i:0 for i in non_terminals}\n",
    "for i in rules:\n",
    "    if i.left not in non_terminals:\n",
    "        print(f\"Left side should be non terminal. The rule {i.left}-> {i.right} {i.probability} breaks it.\")\n",
    "    total_prob[i.left]+=i.probability\n",
    "\n",
    "for i in total_prob:\n",
    "    if total_prob[i] != 1.0 and total_prob[i] !=0:\n",
    "        print(f\"Total probability should be one. It is {total_prob[i]} for {i}\")"
   ]
  },
  {
   "cell_type": "code",
   "execution_count": 8,
   "id": "d8b482a2-0917-4ea5-9a64-6b45c82a6887",
   "metadata": {},
   "outputs": [
    {
     "name": "stdin",
     "output_type": "stream",
     "text": [
      "Enter no of words :  5\n",
      "Enter word 1 :  MANI\n",
      "Enter word 2 :  SAW\n",
      "Enter word 3 :  STARS\n",
      "Enter word 4 :  WITH\n",
      "Enter word 5 :  TELESCOPE\n"
     ]
    }
   ],
   "source": [
    "words=[input(f\"Enter word {i+1} : \").upper() for i in range(int(input(\"Enter no of words : \")))]"
   ]
  },
  {
   "cell_type": "code",
   "execution_count": 9,
   "id": "eb57ced8-8f2e-49ed-8dff-6fee74037441",
   "metadata": {},
   "outputs": [
    {
     "name": "stdout",
     "output_type": "stream",
     "text": [
      "00 14\n",
      "01 24\n",
      "02 34\n",
      "03 44\n"
     ]
    },
    {
     "data": {
      "text/plain": [
       "[((0, 0), (1, 4)), ((0, 1), (2, 4)), ((0, 2), (3, 4)), ((0, 3), (4, 4))]"
      ]
     },
     "execution_count": 9,
     "metadata": {},
     "output_type": "execute_result"
    }
   ],
   "source": [
    "def find_possible_combinations(x,y,debug=False):\n",
    "    comb=[]\n",
    "    for i in range(x,y):\n",
    "        if debug :print(f\"{x}{i} {i+1}{y}\")\n",
    "        comb.append(((x,i),(i+1,y)))\n",
    "    return comb\n",
    "find_possible_combinations(0,4,debug=True)"
   ]
  },
  {
   "cell_type": "code",
   "execution_count": 15,
   "id": "b87ab503-c5fe-4dc4-a50d-d585a19714e6",
   "metadata": {},
   "outputs": [],
   "source": [
    "matrix=[[[] for j in range(len(words))] for i in range(len(words))]\n",
    "for i in range(len(words)):\n",
    "    for j in range(len(words)):\n",
    "        # Loop for diagonal loopings\n",
    "        if i+j < 5:\n",
    "            x=j\n",
    "            y=i+j\n",
    "            if x == y:\n",
    "                matrix[x][y] = find_rule_with_word(words[x])\n",
    "            else:\n",
    "                comb = find_possible_combinations(x,y)\n",
    "                data=[]\n",
    "                for k in comb:\n",
    "                    f = matrix[k[0][0]][k[0][1]]\n",
    "                    g = matrix[k[1][0]][k[1][1]]\n",
    "                    for p in f:\n",
    "                        for q in g:\n",
    "                            for r in rules:\n",
    "                                if r.right == [p.left,q.left]:  \n",
    "                                    Z\n",
    "                                    a = deepcopy(r)\n",
    "                                    a.probability = p.probability*q.probability*r.probability\n",
    "                                    data.append(a)\n",
    "                matrix[x][y] = data"
   ]
  },
  {
   "cell_type": "code",
   "execution_count": 16,
   "id": "cac12653-e208-410d-ac12-d174bba4d957",
   "metadata": {},
   "outputs": [
    {
     "name": "stdout",
     "output_type": "stream",
     "text": [
      "0 0 [<__main__.Rule object at 0x000002383C2FB1D0>]\n",
      "0 1 []\n",
      "0 2 [<__main__.Rule object at 0x000002383C3F8EC0>]\n",
      "0 3 []\n",
      "0 4 [<__main__.Rule object at 0x000002383C3F91C0>, <__main__.Rule object at 0x000002383C3F8950>]\n",
      "1 0 []\n",
      "1 1 [<__main__.Rule object at 0x000002383C2FA9C0>, <__main__.Rule object at 0x000002383C2FADE0>]\n",
      "1 2 [<__main__.Rule object at 0x000002383C3F9010>]\n",
      "1 3 []\n",
      "1 4 [<__main__.Rule object at 0x000002383C3F8C20>, <__main__.Rule object at 0x000002383C3F86B0>]\n",
      "2 0 []\n",
      "2 1 []\n",
      "2 2 [<__main__.Rule object at 0x000002383C2FA720>]\n",
      "2 3 []\n",
      "2 4 [<__main__.Rule object at 0x000002383C3F81D0>]\n",
      "3 0 []\n",
      "3 1 []\n",
      "3 2 []\n",
      "3 3 [<__main__.Rule object at 0x000002383C2FB3E0>]\n",
      "3 4 [<__main__.Rule object at 0x000002383C3F8E60>]\n",
      "4 0 []\n",
      "4 1 []\n",
      "4 2 []\n",
      "4 3 []\n",
      "4 4 [<__main__.Rule object at 0x000002383C2FBB00>]\n"
     ]
    }
   ],
   "source": [
    "for i in range(5):\n",
    "    for j in range(5):\n",
    "        print(i,j,matrix[i][j])"
   ]
  },
  {
   "cell_type": "code",
   "execution_count": 17,
   "id": "9b15f80d-f5ab-43a4-8606-cecd40c7882b",
   "metadata": {},
   "outputs": [
    {
     "data": {
      "text/plain": [
       "[<__main__.Rule at 0x2383c3f91c0>, <__main__.Rule at 0x2383c3f8950>]"
      ]
     },
     "execution_count": 17,
     "metadata": {},
     "output_type": "execute_result"
    }
   ],
   "source": [
    "matrix[0][len(words)-1]"
   ]
  },
  {
   "cell_type": "code",
   "execution_count": 18,
   "id": "673a4c49-f458-4497-8eeb-ee6500fc8dee",
   "metadata": {},
   "outputs": [],
   "source": [
    "def all_same(items):\n",
    "    return all(x.left == items[0].left and x.right == items[0].right for x in items)"
   ]
  },
  {
   "cell_type": "code",
   "execution_count": 19,
   "id": "0b30f283-101a-4c81-9e70-481797ae9e01",
   "metadata": {},
   "outputs": [],
   "source": [
    "if all_same(matrix[0][len(words)-1]):\n",
    "    a = deepcopy(matrix[0][len(words)-1][0])\n",
    "    a.probability = sum([i.probability for i in matrix[0][len(words)-1]])\n",
    "    matrix[0][len(words)-1] = [a]"
   ]
  },
  {
   "cell_type": "code",
   "execution_count": null,
   "id": "5b9980a9-9cac-49a6-8e46-3c55f1910cf6",
   "metadata": {},
   "outputs": [],
   "source": []
  }
 ],
 "metadata": {
  "kernelspec": {
   "display_name": "Python 3 (ipykernel)",
   "language": "python",
   "name": "python3"
  },
  "language_info": {
   "codemirror_mode": {
    "name": "ipython",
    "version": 3
   },
   "file_extension": ".py",
   "mimetype": "text/x-python",
   "name": "python",
   "nbconvert_exporter": "python",
   "pygments_lexer": "ipython3",
   "version": "3.12.6"
  }
 },
 "nbformat": 4,
 "nbformat_minor": 5
}
