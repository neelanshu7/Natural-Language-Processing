{
 "cells": [
  {
   "cell_type": "code",
   "execution_count": 1,
   "id": "b1ee0b7c",
   "metadata": {},
   "outputs": [],
   "source": [
    "import pickle\n",
    "from copy import deepcopy\n",
    "class Rule:\n",
    "    def __init__(self,left,right,probability):\n",
    "        self.right = right\n",
    "        self.left = left\n",
    "        self.probability = probability\n",
    "    \n",
    "    def __str__(self):\n",
    "        return f\"{self.left}->{self.right} {self.probability}\"\n",
    "    \n",
    "    def __repr__(self):\n",
    "        return self.__str__()"
   ]
  },
  {
   "cell_type": "code",
   "execution_count": 2,
   "id": "1a853113",
   "metadata": {},
   "outputs": [],
   "source": [
    "def find_rule_with_word(terminal):\n",
    "    a=[]\n",
    "    for i in rules:\n",
    "        for j in i.right:\n",
    "            if j == terminal:\n",
    "                a.append(i)\n",
    "    return a"
   ]
  },
  {
   "cell_type": "code",
   "execution_count": 3,
   "id": "f9f50a47",
   "metadata": {},
   "outputs": [],
   "source": [
    "def loop_print(i):\n",
    "    for j in i:\n",
    "        print(j)"
   ]
  },
  {
   "cell_type": "code",
   "execution_count": 5,
   "id": "73685e74",
   "metadata": {
    "scrolled": true
   },
   "outputs": [
    {
     "name": "stdin",
     "output_type": "stream",
     "text": [
      "Enter no of rules :  12\n"
     ]
    },
    {
     "name": "stdout",
     "output_type": "stream",
     "text": [
      "----------\n",
      "Rule 1\n"
     ]
    },
    {
     "name": "stdin",
     "output_type": "stream",
     "text": [
      "Enter left side of the rule :   QW\n",
      "Enter right side of the rule in single string :   QEWW FE\n",
      "Enter probability of the rule :  VDSVFW\n"
     ]
    },
    {
     "ename": "ValueError",
     "evalue": "could not convert string to float: 'VDSVFW'",
     "output_type": "error",
     "traceback": [
      "\u001b[1;31m---------------------------------------------------------------------------\u001b[0m",
      "\u001b[1;31mValueError\u001b[0m                                Traceback (most recent call last)",
      "Cell \u001b[1;32mIn[5], line 8\u001b[0m\n\u001b[0;32m      6\u001b[0m key \u001b[38;5;241m=\u001b[39m \u001b[38;5;28minput\u001b[39m(\u001b[38;5;124m\"\u001b[39m\u001b[38;5;124mEnter left side of the rule : \u001b[39m\u001b[38;5;124m\"\u001b[39m)\u001b[38;5;241m.\u001b[39mupper()\n\u001b[0;32m      7\u001b[0m value \u001b[38;5;241m=\u001b[39m \u001b[38;5;28minput\u001b[39m(\u001b[38;5;124m\"\u001b[39m\u001b[38;5;124mEnter right side of the rule in single string : \u001b[39m\u001b[38;5;124m\"\u001b[39m)\u001b[38;5;241m.\u001b[39mupper()\u001b[38;5;241m.\u001b[39msplit()\n\u001b[1;32m----> 8\u001b[0m probability \u001b[38;5;241m=\u001b[39m \u001b[38;5;28;43mfloat\u001b[39;49m\u001b[43m(\u001b[49m\u001b[38;5;28;43minput\u001b[39;49m\u001b[43m(\u001b[49m\u001b[38;5;124;43m\"\u001b[39;49m\u001b[38;5;124;43mEnter probability of the rule : \u001b[39;49m\u001b[38;5;124;43m\"\u001b[39;49m\u001b[43m)\u001b[49m\u001b[43m)\u001b[49m\n\u001b[0;32m      9\u001b[0m rule \u001b[38;5;241m=\u001b[39m Rule(key,value,probability)\n\u001b[0;32m     10\u001b[0m rules\u001b[38;5;241m.\u001b[39mappend(rule)\n",
      "\u001b[1;31mValueError\u001b[0m: could not convert string to float: 'VDSVFW'"
     ]
    }
   ],
   "source": [
    "# Z = int(input(\"Enter no of rules : \"))\n",
    "# rules=[]\n",
    "# for i in range(Z):\n",
    "#     print(\"-\"*10)\n",
    "#     print(f\"Rule {i+1}\")\n",
    "#     key = input(\"Enter left side of the rule : \").upper()\n",
    "#     value = input(\"Enter right side of the rule in single string : \").upper().split()\n",
    "#     probability = float(input(\"Enter probability of the rule : \"))\n",
    "#     rule = Rule(key,value,probability)\n",
    "#     rules.append(rule)\n",
    "    \n",
    "# pickle.dump(rules,open(\"rules.data\",\"wb\"))"
   ]
  },
  {
   "cell_type": "code",
   "execution_count": 6,
   "id": "3ad7dab3",
   "metadata": {
    "scrolled": true
   },
   "outputs": [
    {
     "name": "stdout",
     "output_type": "stream",
     "text": [
      "12\n",
      "S->['NP', 'VP'] 1.0\n",
      "PP->['P', 'NP'] 1.0\n",
      "VP->['V', 'NP'] 0.7\n",
      "VP->['VP', 'PP'] 0.3\n",
      "P->['WITH'] 1.0\n",
      "V->['SAW'] 1.0\n",
      "NP->['NP', 'PP'] 0.4\n",
      "NP->['MANI'] 0.1\n",
      "NP->['EARS'] 0.18\n",
      "NP->['SAW'] 0.04\n",
      "NP->['STARS'] 0.18\n",
      "NP->['TELESCOPE'] 0.1\n"
     ]
    }
   ],
   "source": [
    "# Comment if entering manually if not then load from file\n",
    "rules = pickle.load(open(\"rules.data\",\"rb\"))\n",
    "z = len(rules)\n",
    "print(z)\n",
    "for i in rules:\n",
    "    print(i)"
   ]
  },
  {
   "cell_type": "code",
   "execution_count": 7,
   "id": "82dae138",
   "metadata": {},
   "outputs": [
    {
     "name": "stdout",
     "output_type": "stream",
     "text": [
      "Total probability should be one. Its is 0.9999999999999999 for NP\n"
     ]
    }
   ],
   "source": [
    "# Check condition for rules\n",
    "\n",
    "non_terminals = [\"S\",\"NP\",\"N\",\"VP\",\"V\",\"PP\",\"P\"]\n",
    "total_prob = {i:0 for i in non_terminals}\n",
    "for i in rules:\n",
    "    if i.left not in non_terminals:\n",
    "        print(f\"Left side should be non terminal. The rule {i.left}-> {i.right} {i.probability} breaks it\")\n",
    "    total_prob[i.left]+=i.probability\n",
    "\n",
    "\n",
    "for i in total_prob:\n",
    "    if total_prob[i] != 1.0 and total_prob[i] != 0:\n",
    "        print(f\"Total probability should be one. Its is {total_prob[i]} for {i}\")"
   ]
  },
  {
   "cell_type": "code",
   "execution_count": 8,
   "id": "07b6eb4a",
   "metadata": {},
   "outputs": [
    {
     "name": "stdin",
     "output_type": "stream",
     "text": [
      "Enter no of words :  5\n",
      "Enter word 1 :  MANI\n",
      "Enter word 2 :  SAW\n",
      "Enter word 3 :  STARS\n",
      "Enter word 4 :  WITH\n",
      "Enter word 5 :  TELESCOPE\n"
     ]
    }
   ],
   "source": [
    "words = [input(f\"Enter word {i+1} : \").upper() for i in range(int(input(\"Enter no of words : \")))]"
   ]
  },
  {
   "cell_type": "code",
   "execution_count": 9,
   "id": "7f49b097",
   "metadata": {},
   "outputs": [
    {
     "name": "stdout",
     "output_type": "stream",
     "text": [
      "00 14\n",
      "01 24\n",
      "02 34\n",
      "03 44\n"
     ]
    },
    {
     "data": {
      "text/plain": [
       "[((0, 0), (1, 4)), ((0, 1), (2, 4)), ((0, 2), (3, 4)), ((0, 3), (4, 4))]"
      ]
     },
     "execution_count": 9,
     "metadata": {},
     "output_type": "execute_result"
    }
   ],
   "source": [
    "def find_possible_combinations(x,y,debug=False):\n",
    "    comb = []\n",
    "    for i in range(x,y):\n",
    "        if debug :print(f\"{x}{i} {i+1}{y}\")\n",
    "        comb.append(((x,i),(i+1,y)))\n",
    "    return comb\n",
    "find_possible_combinations(0,4,debug=True)"
   ]
  },
  {
   "cell_type": "code",
   "execution_count": 10,
   "id": "0c4da858",
   "metadata": {},
   "outputs": [],
   "source": [
    "matrix=[[[] for j in range(len(words))] for i in range(len(words))]\n",
    "for i in range(len(words)):\n",
    "    for j in range(len(words)):\n",
    "        # Loop for diagonal loopings\n",
    "        if i+j < 5:\n",
    "            x=j\n",
    "            y=i+j\n",
    "            if x == y:\n",
    "                matrix[x][y] = find_rule_with_word(words[x])\n",
    "            else:\n",
    "                comb = find_possible_combinations(x,y)\n",
    "                data=[]\n",
    "                for k in comb:\n",
    "                    f = matrix[k[0][0]][k[0][1]]\n",
    "                    g = matrix[k[1][0]][k[1][1]]\n",
    "                    for p in f:\n",
    "                        for q in g:\n",
    "                            for r in rules:\n",
    "                                if r.right == [p.left,q.left]:  \n",
    "                                    z\n",
    "                                    a = deepcopy(r)\n",
    "                                    a.probability = p.probability*q.probability*r.probability\n",
    "                                    data.append(a)\n",
    "                                    \n",
    "                matrix[x][y] = data"
   ]
  },
  {
   "cell_type": "code",
   "execution_count": 11,
   "id": "58145505",
   "metadata": {},
   "outputs": [
    {
     "name": "stdout",
     "output_type": "stream",
     "text": [
      "0 0 [NP->['MANI'] 0.1]\n",
      "0 1 []\n",
      "0 2 [S->['NP', 'VP'] 0.0126]\n",
      "0 3 []\n",
      "0 4 [S->['NP', 'VP'] 0.000504, S->['NP', 'VP'] 0.000378]\n",
      "1 0 []\n",
      "1 1 [V->['SAW'] 1.0, NP->['SAW'] 0.04]\n",
      "1 2 [VP->['V', 'NP'] 0.126]\n",
      "1 3 []\n",
      "1 4 [VP->['V', 'NP'] 0.005039999999999999, VP->['VP', 'PP'] 0.00378]\n",
      "2 0 []\n",
      "2 1 []\n",
      "2 2 [NP->['STARS'] 0.18]\n",
      "2 3 []\n",
      "2 4 [NP->['NP', 'PP'] 0.0072]\n",
      "3 0 []\n",
      "3 1 []\n",
      "3 2 []\n",
      "3 3 [P->['WITH'] 1.0]\n",
      "3 4 [PP->['P', 'NP'] 0.1]\n",
      "4 0 []\n",
      "4 1 []\n",
      "4 2 []\n",
      "4 3 []\n",
      "4 4 [NP->['TELESCOPE'] 0.1]\n"
     ]
    }
   ],
   "source": [
    "for i in range(5):\n",
    "    for j in range(5):\n",
    "        print(i,j,matrix[i][j])"
   ]
  },
  {
   "cell_type": "code",
   "execution_count": 12,
   "id": "0411835a",
   "metadata": {},
   "outputs": [
    {
     "data": {
      "text/plain": [
       "[S->['NP', 'VP'] 0.000504, S->['NP', 'VP'] 0.000378]"
      ]
     },
     "execution_count": 12,
     "metadata": {},
     "output_type": "execute_result"
    }
   ],
   "source": [
    "matrix[0][len(words)-1]"
   ]
  },
  {
   "cell_type": "code",
   "execution_count": 13,
   "id": "69608a44",
   "metadata": {},
   "outputs": [],
   "source": [
    "def all_same(items):\n",
    "    return all(x.left == items[0].left and x.right == items[0].right for x in items)"
   ]
  },
  {
   "cell_type": "code",
   "execution_count": 14,
   "id": "71f99c99",
   "metadata": {},
   "outputs": [],
   "source": [
    "if all_same(matrix[0][len(words)-1]):\n",
    "    a = deepcopy(matrix[0][len(words)-1][0])\n",
    "    a.probability = sum([i.probability for i in matrix[0][len(words)-1]])\n",
    "    matrix[0][len(words)-1] = [a]"
   ]
  },
  {
   "cell_type": "code",
   "execution_count": null,
   "id": "4657ebc9-eb28-44d2-8290-b54ead01e977",
   "metadata": {},
   "outputs": [],
   "source": []
  },
  {
   "cell_type": "code",
   "execution_count": null,
   "id": "e9bc870e-0de0-46e8-841a-ddafd933cd6d",
   "metadata": {},
   "outputs": [],
   "source": []
  }
 ],
 "metadata": {
  "kernelspec": {
   "display_name": "Python 3 (ipykernel)",
   "language": "python",
   "name": "python3"
  },
  "language_info": {
   "codemirror_mode": {
    "name": "ipython",
    "version": 3
   },
   "file_extension": ".py",
   "mimetype": "text/x-python",
   "name": "python",
   "nbconvert_exporter": "python",
   "pygments_lexer": "ipython3",
   "version": "3.12.6"
  }
 },
 "nbformat": 4,
 "nbformat_minor": 5
}
