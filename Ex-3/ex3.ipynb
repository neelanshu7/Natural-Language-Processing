{
 "cells": [
  {
   "cell_type": "markdown",
   "id": "b1df3a4c-2eac-4500-97bd-b9f0406154c7",
   "metadata": {},
   "source": [
    "# Word Sense Disambiguation"
   ]
  },
  {
   "cell_type": "code",
   "execution_count": 1,
   "id": "56c8a7d6-3ec5-4ce4-a4e4-ce829f9be4f0",
   "metadata": {},
   "outputs": [],
   "source": [
    "import nltk"
   ]
  },
  {
   "cell_type": "code",
   "execution_count": 2,
   "id": "e479607b-e4ff-4781-8e6c-6b1aeb9711c1",
   "metadata": {},
   "outputs": [
    {
     "name": "stderr",
     "output_type": "stream",
     "text": [
      "[nltk_data] Error loading stopword: Package 'stopword' not found in\n",
      "[nltk_data]     index\n",
      "[nltk_data] Downloading package punkt to\n",
      "[nltk_data]     C:\\Users\\admin\\AppData\\Roaming\\nltk_data...\n",
      "[nltk_data]   Package punkt is already up-to-date!\n"
     ]
    }
   ],
   "source": [
    "nltk.download('stopword')\n",
    "nltk.download('punkt')\n",
    "from nltk.corpus import stopwords\n",
    "from nltk.tokenize import word_tokenize\n",
    "import pandas as pd\n",
    "import math"
   ]
  },
  {
   "cell_type": "code",
   "execution_count": 3,
   "id": "48792d88-48f9-4cc3-8161-4c15c3db5239",
   "metadata": {},
   "outputs": [
    {
     "name": "stdout",
     "output_type": "stream",
     "text": [
      "[\"He a acts as the IT department's chair : Position\", 'He is seated in a steel chair : furniture', 'chair does not interfere in daytoday company matter : Postion', 'I need a chair to sit: furniture', 'he is lying down on a chair : furniture']\n"
     ]
    }
   ],
   "source": [
    "f=open(\"data3.txt\")\n",
    "text=f.read()\n",
    "data=text.splitlines()\n",
    "print(data)"
   ]
  },
  {
   "cell_type": "code",
   "execution_count": 4,
   "id": "43bdae5e-5400-4d36-9761-619ba4724dd8",
   "metadata": {},
   "outputs": [
    {
     "name": "stdout",
     "output_type": "stream",
     "text": [
      "[['He', 'a', 'acts', 'as', 'the', 'IT', 'department', \"'s\", 'chair', ':', 'Position'], ['He', 'is', 'seated', 'in', 'a', 'steel', 'chair', ':', 'furniture'], ['chair', 'does', 'not', 'interfere', 'in', 'daytoday', 'company', 'matter', ':', 'Postion'], ['I', 'need', 'a', 'chair', 'to', 'sit', ':', 'furniture'], ['he', 'is', 'lying', 'down', 'on', 'a', 'chair', ':', 'furniture']]\n"
     ]
    }
   ],
   "source": [
    "ds=list()\n",
    "for i in data:\n",
    "    tokens=word_tokenize(i)\n",
    "    ds.append(tokens)\n",
    "print(ds)"
   ]
  },
  {
   "cell_type": "code",
   "execution_count": 5,
   "id": "d8e771f9-d77d-43a5-9d41-dca69935357d",
   "metadata": {},
   "outputs": [
    {
     "name": "stdin",
     "output_type": "stream",
     "text": [
      "Enter a sentence:  I'm the department chair for IT\n"
     ]
    }
   ],
   "source": [
    "testsen=input(\"Enter a sentence: \")"
   ]
  },
  {
   "cell_type": "code",
   "execution_count": 6,
   "id": "6188876d-21ba-44f2-99e9-bea79a809007",
   "metadata": {},
   "outputs": [],
   "source": [
    "testsen=testsen.split(\" \")"
   ]
  },
  {
   "cell_type": "code",
   "execution_count": 7,
   "id": "2310d8fa-bf08-490a-94b6-3d7d68e271d2",
   "metadata": {},
   "outputs": [
    {
     "name": "stdin",
     "output_type": "stream",
     "text": [
      "Enter the word to find its sense in the given input :  chair\n"
     ]
    }
   ],
   "source": [
    "senseword=input(\"Enter the word to find its sense in the given input : \")"
   ]
  },
  {
   "cell_type": "code",
   "execution_count": 8,
   "id": "54943ab7-2fac-4b1a-a4fb-c71d11125ea2",
   "metadata": {},
   "outputs": [
    {
     "name": "stdin",
     "output_type": "stream",
     "text": [
      "Enter the sense 1:  furniture\n",
      "Enter the sense 2:  Position\n"
     ]
    }
   ],
   "source": [
    "s1=input(\"Enter the sense 1: \")\n",
    "s2=input(\"Enter the sense 2: \")"
   ]
  },
  {
   "cell_type": "code",
   "execution_count": 9,
   "id": "4ec6e54a-dd40-404a-9319-9a3ff6508459",
   "metadata": {},
   "outputs": [
    {
     "name": "stdout",
     "output_type": "stream",
     "text": [
      "3.0\n",
      "1.0\n"
     ]
    }
   ],
   "source": [
    "cf=float(text.count(s1))\n",
    "cp=float(text.count(s2))\n",
    "print(cf)\n",
    "print(cp)"
   ]
  },
  {
   "cell_type": "code",
   "execution_count": 10,
   "id": "ebf37882-05ec-4005-8bb1-d34073996fea",
   "metadata": {},
   "outputs": [
    {
     "name": "stdout",
     "output_type": "stream",
     "text": [
      "2.0\n",
      "3.0\n"
     ]
    }
   ],
   "source": [
    "scoref=-math.log2((cf+1)/(cp+cf+12))\n",
    "scorep=-math.log2((cp+1)/(cp+cf+12))\n",
    "print(scoref)\n",
    "print(scorep)"
   ]
  },
  {
   "cell_type": "code",
   "execution_count": 11,
   "id": "f6d2e81e-a996-4f9b-88a0-511131b733f7",
   "metadata": {},
   "outputs": [],
   "source": [
    "fur=list()\n",
    "pos=list()"
   ]
  },
  {
   "cell_type": "code",
   "execution_count": 12,
   "id": "a0bf7036-4deb-4981-a08b-73275a497b43",
   "metadata": {},
   "outputs": [
    {
     "name": "stdout",
     "output_type": "stream",
     "text": [
      "[['He', 'is', 'seated', 'in', 'a', 'steel', 'chair', ':', 'furniture'], ['I', 'need', 'a', 'chair', 'to', 'sit', ':', 'furniture'], ['he', 'is', 'lying', 'down', 'on', 'a', 'chair', ':', 'furniture']]\n",
      "\n",
      "[['He', 'a', 'acts', 'as', 'the', 'IT', 'department', \"'s\", 'chair', ':', 'Position'], ['chair', 'does', 'not', 'interfere', 'in', 'daytoday', 'company', 'matter', ':', 'Postion']]\n"
     ]
    }
   ],
   "source": [
    "for i in ds:\n",
    "    if(s1 in i):\n",
    "        fur.append(i)\n",
    "    else:\n",
    "        pos.append(i)\n",
    "print(fur)\n",
    "print()\n",
    "print(pos)"
   ]
  },
  {
   "cell_type": "code",
   "execution_count": 13,
   "id": "32fa577b-1404-4c44-bedc-3c5f91b7ab02",
   "metadata": {},
   "outputs": [
    {
     "name": "stdout",
     "output_type": "stream",
     "text": [
      "['He', 'a', 'acts', 'as', 'the', 'IT', 'department', \"'s\", 'chair', ':', 'Position', 'He', 'is', 'seated', 'in', 'a', 'steel', 'chair', ':', 'furniture', 'chair', 'does', 'not', 'interfere', 'in', 'daytoday', 'company', 'matter', ':', 'Postion', 'I', 'need', 'a', 'chair', 'to', 'sit', ':', 'furniture', 'he', 'is', 'lying', 'down', 'on', 'a', 'chair', ':', 'furniture']\n"
     ]
    }
   ],
   "source": [
    "worlis=word_tokenize(text)\n",
    "print(worlis)"
   ]
  },
  {
   "cell_type": "code",
   "execution_count": 14,
   "id": "cb21c5bd-661d-481e-99be-eb8700bc5257",
   "metadata": {},
   "outputs": [],
   "source": [
    "problistf=list()\n",
    "problistp=list()\n",
    "for word in worlis:\n",
    "    p=0\n",
    "    f=0\n",
    "    wf=list()\n",
    "    wp=list()\n",
    "    for i in fur:\n",
    "        if(word in i):\n",
    "            f=f+1\n",
    "    wf.append(word)\n",
    "    wf.append(-math.log2((f+1)/(cf+12)))\n",
    "    if(wf not in problistf):\n",
    "        problistf.append(wf)\n",
    "    for i in pos:\n",
    "        if(word in i):\n",
    "            p=p+1\n",
    "    wp.append(word)\n",
    "    wp.append(-math.log2((p+1)/(cp+12)))\n",
    "    if(wp not in problistp):\n",
    "        problistp.append(wp)\n",
    "\n",
    "# scoref=scoref+math.log2(((f+1)/(cf+12)))\n",
    "# scorep=scorep+math.log2(((p+1)/(cp+12)))"
   ]
  },
  {
   "cell_type": "code",
   "execution_count": 15,
   "id": "f139e4d4-dd3f-4514-bf29-6d13a432e561",
   "metadata": {},
   "outputs": [
    {
     "data": {
      "text/plain": [
       "[['He', 2.9068905956085187],\n",
       " ['a', 1.9068905956085185],\n",
       " ['acts', 3.9068905956085187],\n",
       " ['as', 3.9068905956085187],\n",
       " ['the', 3.9068905956085187],\n",
       " ['IT', 3.9068905956085187],\n",
       " ['department', 3.9068905956085187],\n",
       " [\"'s\", 3.9068905956085187],\n",
       " ['chair', 1.9068905956085185],\n",
       " [':', 1.9068905956085185],\n",
       " ['Position', 3.9068905956085187],\n",
       " ['is', 2.321928094887362],\n",
       " ['seated', 2.9068905956085187],\n",
       " ['in', 2.9068905956085187],\n",
       " ['steel', 2.9068905956085187],\n",
       " ['furniture', 1.9068905956085185],\n",
       " ['does', 3.9068905956085187],\n",
       " ['not', 3.9068905956085187],\n",
       " ['interfere', 3.9068905956085187],\n",
       " ['daytoday', 3.9068905956085187],\n",
       " ['company', 3.9068905956085187],\n",
       " ['matter', 3.9068905956085187],\n",
       " ['Postion', 3.9068905956085187],\n",
       " ['I', 2.9068905956085187],\n",
       " ['need', 2.9068905956085187],\n",
       " ['to', 2.9068905956085187],\n",
       " ['sit', 2.9068905956085187],\n",
       " ['he', 2.9068905956085187],\n",
       " ['lying', 2.9068905956085187],\n",
       " ['down', 2.9068905956085187],\n",
       " ['on', 2.9068905956085187]]"
      ]
     },
     "execution_count": 15,
     "metadata": {},
     "output_type": "execute_result"
    }
   ],
   "source": [
    "problistf"
   ]
  },
  {
   "cell_type": "code",
   "execution_count": 16,
   "id": "08fe704c-5390-4216-953e-7eb5fbf19e4e",
   "metadata": {},
   "outputs": [
    {
     "data": {
      "text/plain": [
       "[['He', 2.700439718141092],\n",
       " ['a', 2.700439718141092],\n",
       " ['acts', 2.700439718141092],\n",
       " ['as', 2.700439718141092],\n",
       " ['the', 2.700439718141092],\n",
       " ['IT', 2.700439718141092],\n",
       " ['department', 2.700439718141092],\n",
       " [\"'s\", 2.700439718141092],\n",
       " ['chair', 2.115477217419936],\n",
       " [':', 2.115477217419936],\n",
       " ['Position', 2.700439718141092],\n",
       " ['is', 3.700439718141092],\n",
       " ['seated', 3.700439718141092],\n",
       " ['in', 2.700439718141092],\n",
       " ['steel', 3.700439718141092],\n",
       " ['furniture', 3.700439718141092],\n",
       " ['does', 2.700439718141092],\n",
       " ['not', 2.700439718141092],\n",
       " ['interfere', 2.700439718141092],\n",
       " ['daytoday', 2.700439718141092],\n",
       " ['company', 2.700439718141092],\n",
       " ['matter', 2.700439718141092],\n",
       " ['Postion', 2.700439718141092],\n",
       " ['I', 3.700439718141092],\n",
       " ['need', 3.700439718141092],\n",
       " ['to', 3.700439718141092],\n",
       " ['sit', 3.700439718141092],\n",
       " ['he', 3.700439718141092],\n",
       " ['lying', 3.700439718141092],\n",
       " ['down', 3.700439718141092],\n",
       " ['on', 3.700439718141092]]"
      ]
     },
     "execution_count": 16,
     "metadata": {},
     "output_type": "execute_result"
    }
   ],
   "source": [
    "problistp"
   ]
  },
  {
   "cell_type": "code",
   "execution_count": 17,
   "id": "0ba3d310-9f2d-476f-a9fe-6ffe8eefdcd5",
   "metadata": {},
   "outputs": [],
   "source": [
    "for word in testsen:\n",
    "    for i in problistf:\n",
    "        if(word in i):\n",
    "            scoref=scoref+i[1]\n",
    "    for i in problistp:\n",
    "        if(word in i):\n",
    "            scorep=scorep+i[1]"
   ]
  },
  {
   "cell_type": "code",
   "execution_count": 18,
   "id": "04d46ab9-43b0-4a57-9928-79708fa45784",
   "metadata": {},
   "outputs": [
    {
     "name": "stdout",
     "output_type": "stream",
     "text": [
      "The given chair is of sense furniture in the given sentence\n"
     ]
    }
   ],
   "source": [
    "if(scorep>scoref):\n",
    "    print(f\"The given {senseword} is of sense {s2} in the given sentence\")\n",
    "else:\n",
    "    print(f\"The given {senseword} is of sense {s1} in the given sentence\")"
   ]
  },
  {
   "cell_type": "code",
   "execution_count": null,
   "id": "9cd1366d-ecaa-42a1-acf3-b490176ef9cc",
   "metadata": {},
   "outputs": [],
   "source": []
  }
 ],
 "metadata": {
  "kernelspec": {
   "display_name": "Python 3 (ipykernel)",
   "language": "python",
   "name": "python3"
  },
  "language_info": {
   "codemirror_mode": {
    "name": "ipython",
    "version": 3
   },
   "file_extension": ".py",
   "mimetype": "text/x-python",
   "name": "python",
   "nbconvert_exporter": "python",
   "pygments_lexer": "ipython3",
   "version": "3.12.6"
  }
 },
 "nbformat": 4,
 "nbformat_minor": 5
}
