{
 "cells": [
  {
   "cell_type": "code",
   "execution_count": 1,
   "id": "fc16694c-af05-4a4d-9d20-7d5a4861c100",
   "metadata": {},
   "outputs": [],
   "source": [
    "import pandas as pd\n",
    "\n",
    "# Reading Text File\n",
    "with open('MT-EN-TM_dataset.txt','r',encoding='utf-8') as file:\n",
    "    lines=file.readlines()\n",
    "\n",
    "# Line into column\n",
    "data=[]\n",
    "for line in lines:\n",
    "    cell=line.strip().split('\\t')\n",
    "    if len(cell)>=3:\n",
    "        data.append({\n",
    "            'english':cell[0],\n",
    "            'tamil':cell[1],\n",
    "            'attribution':cell[2]\n",
    "        })\n",
    "\n",
    "# data.append([english,tamil,attribution])\n",
    "df=pd.DataFrame(data)\n",
    "# dataframe to csv file\n",
    "df.to_csv('MT-EN-TM.csv',index=False,encoding='utf-8')"
   ]
  },
  {
   "cell_type": "code",
   "execution_count": 2,
   "id": "3e724c38-1b08-4878-b787-5ecbeb17ee51",
   "metadata": {},
   "outputs": [
    {
     "data": {
      "text/html": [
       "<div>\n",
       "<style scoped>\n",
       "    .dataframe tbody tr th:only-of-type {\n",
       "        vertical-align: middle;\n",
       "    }\n",
       "\n",
       "    .dataframe tbody tr th {\n",
       "        vertical-align: top;\n",
       "    }\n",
       "\n",
       "    .dataframe thead th {\n",
       "        text-align: right;\n",
       "    }\n",
       "</style>\n",
       "<table border=\"1\" class=\"dataframe\">\n",
       "  <thead>\n",
       "    <tr style=\"text-align: right;\">\n",
       "      <th></th>\n",
       "      <th>english</th>\n",
       "      <th>tamil</th>\n",
       "      <th>attribution</th>\n",
       "    </tr>\n",
       "  </thead>\n",
       "  <tbody>\n",
       "    <tr>\n",
       "      <th>0</th>\n",
       "      <td>I slept.</td>\n",
       "      <td>நான் தூங்கினேன்.</td>\n",
       "      <td>CC-BY 2.0 (France) Attribution: tatoeba.org #3...</td>\n",
       "    </tr>\n",
       "    <tr>\n",
       "      <th>1</th>\n",
       "      <td>Calm down.</td>\n",
       "      <td>அமைதியாக இருங்கள்</td>\n",
       "      <td>CC-BY 2.0 (France) Attribution: tatoeba.org #4...</td>\n",
       "    </tr>\n",
       "    <tr>\n",
       "      <th>2</th>\n",
       "      <td>I'll walk.</td>\n",
       "      <td>நான் நடப்பேன்.</td>\n",
       "      <td>CC-BY 2.0 (France) Attribution: tatoeba.org #2...</td>\n",
       "    </tr>\n",
       "    <tr>\n",
       "      <th>3</th>\n",
       "      <td>Who is he?</td>\n",
       "      <td>அவன் யார்?</td>\n",
       "      <td>CC-BY 2.0 (France) Attribution: tatoeba.org #3...</td>\n",
       "    </tr>\n",
       "    <tr>\n",
       "      <th>4</th>\n",
       "      <td>Who knows?</td>\n",
       "      <td>யாருக்குத் தெரியும்?</td>\n",
       "      <td>CC-BY 2.0 (France) Attribution: tatoeba.org #2...</td>\n",
       "    </tr>\n",
       "  </tbody>\n",
       "</table>\n",
       "</div>"
      ],
      "text/plain": [
       "      english                 tamil  \\\n",
       "0    I slept.      நான் தூங்கினேன்.   \n",
       "1  Calm down.     அமைதியாக இருங்கள்   \n",
       "2  I'll walk.        நான் நடப்பேன்.   \n",
       "3  Who is he?            அவன் யார்?   \n",
       "4  Who knows?  யாருக்குத் தெரியும்?   \n",
       "\n",
       "                                         attribution  \n",
       "0  CC-BY 2.0 (France) Attribution: tatoeba.org #3...  \n",
       "1  CC-BY 2.0 (France) Attribution: tatoeba.org #4...  \n",
       "2  CC-BY 2.0 (France) Attribution: tatoeba.org #2...  \n",
       "3  CC-BY 2.0 (France) Attribution: tatoeba.org #3...  \n",
       "4  CC-BY 2.0 (France) Attribution: tatoeba.org #2...  "
      ]
     },
     "execution_count": 2,
     "metadata": {},
     "output_type": "execute_result"
    }
   ],
   "source": [
    "df.head()"
   ]
  }
 ],
 "metadata": {
  "kernelspec": {
   "display_name": "Python 3 (ipykernel)",
   "language": "python",
   "name": "python3"
  },
  "language_info": {
   "codemirror_mode": {
    "name": "ipython",
    "version": 3
   },
   "file_extension": ".py",
   "mimetype": "text/x-python",
   "name": "python",
   "nbconvert_exporter": "python",
   "pygments_lexer": "ipython3",
   "version": "3.12.6"
  },
  "widgets": {
   "application/vnd.jupyter.widget-state+json": {
    "state": {},
    "version_major": 2,
    "version_minor": 0
   }
  }
 },
 "nbformat": 4,
 "nbformat_minor": 5
}
